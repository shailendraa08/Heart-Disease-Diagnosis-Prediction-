{
 "cells": [
  {
   "cell_type": "markdown",
   "metadata": {},
   "source": [
    "**Project Title: Health Diagnosis Prediction with Machine Learning**\n",
    "\n",
    "**Summary:**\n",
    "\n",
    "In the \"Health Diagnosis Prediction with Machine Learning\" project, I set out to develop a predictive model capable of diagnosing health conditions based on various medical indicators. The dataset I utilized contained essential health parameters such as age, gender, blood pressure, cholesterol levels, and more.\n",
    "\n",
    "**Steps Taken:**\n",
    "\n",
    "1. **Data Importing and Exploration:** I began by importing the dataset using the Pandas library and delved into its structure and features to gain insights.\n",
    "\n",
    "2. **Data Preprocessing:** I undertook several preprocessing tasks, including handling missing values, encoding categorical variables, and scaling numerical features, to prepare the data for modeling.\n",
    "\n",
    "3. **Feature Selection:** I identified relevant features and split the data into predictor variables (features) and the target variable (health condition).\n",
    "\n",
    "4. **Model Building:** I experimented with a range of machine learning algorithms, including Logistic Regression, Gradient Boosting Classifier, Linear Discriminant Analysis, K-Nearest Neighbors, Decision Tree Classifier, Gaussian Naive Bayes, Random Forest Classifier, and Support Vector Classifier. Each model's performance was evaluated using cross-validation techniques.\n",
    "\n",
    "5. **Hyperparameter Tuning:** For the Gradient Boosting Classifier model, I conducted hyperparameter tuning using GridSearchCV to optimize its performance.\n",
    "\n",
    "6. **Model Evaluation:** I evaluated the performance of the selected Gradient Boosting Classifier model on the test data using various metrics such as accuracy score, confusion matrix, and classification report.\n",
    "\n",
    "7. **Final Prediction:** Finally, I utilized the trained Gradient Boosting Classifier model to make predictions for sample data, illustrating its practical utility in health diagnosis prediction.\n",
    "\n",
    "**Findings:**\n",
    "\n",
    "Through my analysis, I discovered that the Gradient Boosting Classifier model demonstrated promising performance in diagnosing health conditions based on the provided medical features. Following hyperparameter tuning, the model exhibited improved accuracy, underscoring the significance of parameter optimization in machine learning model development.\n",
    "\n",
    "Overall, this project underscores the potential of machine learning techniques in healthcare for precise health diagnosis, facilitating early intervention and treatment planning."
   ]
  },
  {
   "cell_type": "code",
   "execution_count": 2,
   "metadata": {
    "execution": {
     "iopub.execute_input": "2024-02-21T17:45:32.699832Z",
     "iopub.status.busy": "2024-02-21T17:45:32.699378Z",
     "iopub.status.idle": "2024-02-21T17:45:36.073107Z",
     "shell.execute_reply": "2024-02-21T17:45:36.071932Z",
     "shell.execute_reply.started": "2024-02-21T17:45:32.699781Z"
    }
   },
   "outputs": [],
   "source": [
    "import pandas as pd\n",
    "import numpy as np\n",
    "import matplotlib.pyplot as plt\n",
    "import seaborn as sns\n",
    "\n",
    "import warnings\n",
    "warnings.filterwarnings('ignore')"
   ]
  },
  {
   "cell_type": "code",
   "execution_count": 7,
   "metadata": {
    "execution": {
     "iopub.execute_input": "2024-02-21T17:45:36.076638Z",
     "iopub.status.busy": "2024-02-21T17:45:36.075250Z",
     "iopub.status.idle": "2024-02-21T17:45:36.127447Z",
     "shell.execute_reply": "2024-02-21T17:45:36.125729Z",
     "shell.execute_reply.started": "2024-02-21T17:45:36.076597Z"
    }
   },
   "outputs": [
    {
     "data": {
      "text/html": [
       "<div>\n",
       "<style scoped>\n",
       "    .dataframe tbody tr th:only-of-type {\n",
       "        vertical-align: middle;\n",
       "    }\n",
       "\n",
       "    .dataframe tbody tr th {\n",
       "        vertical-align: top;\n",
       "    }\n",
       "\n",
       "    .dataframe thead th {\n",
       "        text-align: right;\n",
       "    }\n",
       "</style>\n",
       "<table border=\"1\" class=\"dataframe\">\n",
       "  <thead>\n",
       "    <tr style=\"text-align: right;\">\n",
       "      <th></th>\n",
       "      <th>rest_bp</th>\n",
       "      <th>chest_pain</th>\n",
       "      <th>thalassemia</th>\n",
       "      <th>age</th>\n",
       "      <th>fasting_bs</th>\n",
       "      <th>max_hr</th>\n",
       "      <th>exercise_angina</th>\n",
       "      <th>gender</th>\n",
       "      <th>st_slope</th>\n",
       "      <th>cholesterol</th>\n",
       "      <th>st_depression</th>\n",
       "      <th>rest_ecg</th>\n",
       "      <th>num_vessels</th>\n",
       "      <th>diagnosis</th>\n",
       "    </tr>\n",
       "  </thead>\n",
       "  <tbody>\n",
       "    <tr>\n",
       "      <th>0</th>\n",
       "      <td>106</td>\n",
       "      <td>3</td>\n",
       "      <td>0</td>\n",
       "      <td>67</td>\n",
       "      <td>0</td>\n",
       "      <td>142</td>\n",
       "      <td>0</td>\n",
       "      <td>0</td>\n",
       "      <td>0</td>\n",
       "      <td>223</td>\n",
       "      <td>0.3</td>\n",
       "      <td>0</td>\n",
       "      <td>2</td>\n",
       "      <td>0</td>\n",
       "    </tr>\n",
       "    <tr>\n",
       "      <th>1</th>\n",
       "      <td>120</td>\n",
       "      <td>2</td>\n",
       "      <td>0</td>\n",
       "      <td>50</td>\n",
       "      <td>0</td>\n",
       "      <td>158</td>\n",
       "      <td>0</td>\n",
       "      <td>0</td>\n",
       "      <td>1</td>\n",
       "      <td>219</td>\n",
       "      <td>1.6</td>\n",
       "      <td>0</td>\n",
       "      <td>0</td>\n",
       "      <td>0</td>\n",
       "    </tr>\n",
       "    <tr>\n",
       "      <th>2</th>\n",
       "      <td>126</td>\n",
       "      <td>3</td>\n",
       "      <td>2</td>\n",
       "      <td>35</td>\n",
       "      <td>0</td>\n",
       "      <td>156</td>\n",
       "      <td>1</td>\n",
       "      <td>1</td>\n",
       "      <td>0</td>\n",
       "      <td>282</td>\n",
       "      <td>0.0</td>\n",
       "      <td>2</td>\n",
       "      <td>0</td>\n",
       "      <td>1</td>\n",
       "    </tr>\n",
       "    <tr>\n",
       "      <th>3</th>\n",
       "      <td>150</td>\n",
       "      <td>3</td>\n",
       "      <td>2</td>\n",
       "      <td>63</td>\n",
       "      <td>0</td>\n",
       "      <td>154</td>\n",
       "      <td>0</td>\n",
       "      <td>0</td>\n",
       "      <td>1</td>\n",
       "      <td>407</td>\n",
       "      <td>4.0</td>\n",
       "      <td>2</td>\n",
       "      <td>3</td>\n",
       "      <td>1</td>\n",
       "    </tr>\n",
       "    <tr>\n",
       "      <th>4</th>\n",
       "      <td>140</td>\n",
       "      <td>3</td>\n",
       "      <td>2</td>\n",
       "      <td>46</td>\n",
       "      <td>0</td>\n",
       "      <td>120</td>\n",
       "      <td>1</td>\n",
       "      <td>1</td>\n",
       "      <td>1</td>\n",
       "      <td>311</td>\n",
       "      <td>1.8</td>\n",
       "      <td>0</td>\n",
       "      <td>2</td>\n",
       "      <td>1</td>\n",
       "    </tr>\n",
       "  </tbody>\n",
       "</table>\n",
       "</div>"
      ],
      "text/plain": [
       "   rest_bp  chest_pain  thalassemia  age  fasting_bs  max_hr  exercise_angina  \\\n",
       "0      106           3            0   67           0     142                0   \n",
       "1      120           2            0   50           0     158                0   \n",
       "2      126           3            2   35           0     156                1   \n",
       "3      150           3            2   63           0     154                0   \n",
       "4      140           3            2   46           0     120                1   \n",
       "\n",
       "   gender  st_slope  cholesterol  st_depression  rest_ecg  num_vessels  \\\n",
       "0       0         0          223            0.3         0            2   \n",
       "1       0         1          219            1.6         0            0   \n",
       "2       1         0          282            0.0         2            0   \n",
       "3       0         1          407            4.0         2            3   \n",
       "4       1         1          311            1.8         0            2   \n",
       "\n",
       "   diagnosis  \n",
       "0          0  \n",
       "1          0  \n",
       "2          1  \n",
       "3          1  \n",
       "4          1  "
      ]
     },
     "execution_count": 7,
     "metadata": {},
     "output_type": "execute_result"
    }
   ],
   "source": [
    "df = pd.read_csv('heart_data.csv')\n",
    "df.head()"
   ]
  },
  {
   "cell_type": "code",
   "execution_count": 8,
   "metadata": {
    "execution": {
     "iopub.execute_input": "2024-02-21T17:45:36.130820Z",
     "iopub.status.busy": "2024-02-21T17:45:36.129411Z",
     "iopub.status.idle": "2024-02-21T17:45:36.147011Z",
     "shell.execute_reply": "2024-02-21T17:45:36.145406Z",
     "shell.execute_reply.started": "2024-02-21T17:45:36.130754Z"
    }
   },
   "outputs": [
    {
     "data": {
      "text/plain": [
       "rest_bp            0\n",
       "chest_pain         0\n",
       "thalassemia        0\n",
       "age                0\n",
       "fasting_bs         0\n",
       "max_hr             0\n",
       "exercise_angina    0\n",
       "gender             0\n",
       "st_slope           0\n",
       "cholesterol        0\n",
       "st_depression      0\n",
       "rest_ecg           0\n",
       "num_vessels        0\n",
       "diagnosis          0\n",
       "dtype: int64"
      ]
     },
     "execution_count": 8,
     "metadata": {},
     "output_type": "execute_result"
    }
   ],
   "source": [
    "df.isnull().sum()"
   ]
  },
  {
   "cell_type": "code",
   "execution_count": 9,
   "metadata": {
    "execution": {
     "iopub.execute_input": "2024-02-21T17:45:36.152314Z",
     "iopub.status.busy": "2024-02-21T17:45:36.150789Z",
     "iopub.status.idle": "2024-02-21T17:45:36.165834Z",
     "shell.execute_reply": "2024-02-21T17:45:36.163563Z",
     "shell.execute_reply.started": "2024-02-21T17:45:36.152256Z"
    }
   },
   "outputs": [
    {
     "data": {
      "text/plain": [
       "rest_bp              int64\n",
       "chest_pain           int64\n",
       "thalassemia          int64\n",
       "age                  int64\n",
       "fasting_bs           int64\n",
       "max_hr               int64\n",
       "exercise_angina      int64\n",
       "gender               int64\n",
       "st_slope             int64\n",
       "cholesterol          int64\n",
       "st_depression      float64\n",
       "rest_ecg             int64\n",
       "num_vessels          int64\n",
       "diagnosis            int64\n",
       "dtype: object"
      ]
     },
     "execution_count": 9,
     "metadata": {},
     "output_type": "execute_result"
    }
   ],
   "source": [
    "df.dtypes"
   ]
  },
  {
   "cell_type": "code",
   "execution_count": 10,
   "metadata": {
    "execution": {
     "iopub.execute_input": "2024-02-21T17:45:36.168310Z",
     "iopub.status.busy": "2024-02-21T17:45:36.167798Z",
     "iopub.status.idle": "2024-02-21T17:45:36.179456Z",
     "shell.execute_reply": "2024-02-21T17:45:36.177887Z",
     "shell.execute_reply.started": "2024-02-21T17:45:36.168267Z"
    }
   },
   "outputs": [
    {
     "name": "stdout",
     "output_type": "stream",
     "text": [
      "Numeric features: ['age', 'rest_bp', 'cholesterol', 'max_hr', 'st_depression', 'diagnosis']\n",
      "Categorical features: ['gender', 'chest_pain', 'fasting_bs', 'rest_ecg', 'exercise_angina', 'st_slope', 'num_vessels', 'thalassemia']\n"
     ]
    }
   ],
   "source": [
    "# List of columns with numeric data\n",
    "numeric_features = ['age', 'rest_bp', 'cholesterol', 'max_hr', 'st_depression', 'diagnosis']\n",
    "\n",
    "# List of columns with categorical data\n",
    "cat_features = ['gender', 'chest_pain', 'fasting_bs', 'rest_ecg', 'exercise_angina', 'st_slope', 'num_vessels', 'thalassemia']\n",
    "\n",
    "# Print the lists of features\n",
    "print(\"Numeric features:\", numeric_features)\n",
    "print(\"Categorical features:\", cat_features)"
   ]
  },
  {
   "cell_type": "code",
   "execution_count": 11,
   "metadata": {
    "execution": {
     "iopub.execute_input": "2024-02-21T17:45:36.182074Z",
     "iopub.status.busy": "2024-02-21T17:45:36.181569Z",
     "iopub.status.idle": "2024-02-21T17:45:36.214826Z",
     "shell.execute_reply": "2024-02-21T17:45:36.213551Z",
     "shell.execute_reply.started": "2024-02-21T17:45:36.182030Z"
    }
   },
   "outputs": [
    {
     "data": {
      "text/plain": [
       "rest_bp              int64\n",
       "chest_pain          object\n",
       "thalassemia         object\n",
       "age                  int64\n",
       "fasting_bs          object\n",
       "max_hr               int64\n",
       "exercise_angina     object\n",
       "gender              object\n",
       "st_slope            object\n",
       "cholesterol          int64\n",
       "st_depression      float64\n",
       "rest_ecg            object\n",
       "num_vessels         object\n",
       "diagnosis            int64\n",
       "dtype: object"
      ]
     },
     "execution_count": 11,
     "metadata": {},
     "output_type": "execute_result"
    }
   ],
   "source": [
    "df[cat_features] = df[cat_features].astype(object)\n",
    "\n",
    "df.dtypes"
   ]
  },
  {
   "cell_type": "markdown",
   "metadata": {},
   "source": [
    "## categorical data analysis"
   ]
  },
  {
   "cell_type": "code",
   "execution_count": 12,
   "metadata": {
    "execution": {
     "iopub.execute_input": "2024-02-21T17:45:36.218101Z",
     "iopub.status.busy": "2024-02-21T17:45:36.217534Z",
     "iopub.status.idle": "2024-02-21T17:45:36.825744Z",
     "shell.execute_reply": "2024-02-21T17:45:36.824278Z",
     "shell.execute_reply.started": "2024-02-21T17:45:36.218058Z"
    }
   },
   "outputs": [
    {
     "data": {
      "image/png": "[encoded data removed]",
      "text/plain": [
       "<Figure size 720x576 with 2 Axes>"
      ]
     },
     "metadata": {
      "needs_background": "light"
     },
     "output_type": "display_data"
    }
   ],
   "source": [
    "numeric_df = df[numeric_features]\n",
    "\n",
    "# Calculate the correlation between selected columns\n",
    "corr_data = numeric_df.corr()\n",
    "\n",
    "# Create a heatmap\n",
    "plt.figure(figsize=(10, 8))\n",
    "sns.heatmap(corr_data, annot=True, cmap='Reds', linewidths=0.1)\n",
    "plt.title('Correlation Heatmap of Numeric Features')\n",
    "plt.show()"
   ]
  },
  {
   "cell_type": "code",
   "execution_count": 13,
   "metadata": {
    "execution": {
     "iopub.execute_input": "2024-02-21T17:45:36.827608Z",
     "iopub.status.busy": "2024-02-21T17:45:36.827144Z",
     "iopub.status.idle": "2024-02-21T17:45:37.019594Z",
     "shell.execute_reply": "2024-02-21T17:45:37.017785Z",
     "shell.execute_reply.started": "2024-02-21T17:45:36.827570Z"
    }
   },
   "outputs": [
    {
     "data": {
      "image/png": "[encoded data removed]",
      "text/plain": [
       "<Figure size 432x288 with 1 Axes>"
      ]
     },
     "metadata": {
      "needs_background": "light"
     },
     "output_type": "display_data"
    }
   ],
   "source": [
    "condition_ax = sns.countplot(x='diagnosis', data=df)\n",
    "\n",
    "plt.show()"
   ]
  },
  {
   "cell_type": "code",
   "execution_count": 14,
   "metadata": {
    "execution": {
     "iopub.execute_input": "2024-02-21T17:45:37.023242Z",
     "iopub.status.busy": "2024-02-21T17:45:37.022284Z",
     "iopub.status.idle": "2024-02-21T17:45:37.230627Z",
     "shell.execute_reply": "2024-02-21T17:45:37.228948Z",
     "shell.execute_reply.started": "2024-02-21T17:45:37.023190Z"
    }
   },
   "outputs": [
    {
     "data": {
      "image/png": "[encoded data removed]",
      "text/plain": [
       "<Figure size 432x288 with 1 Axes>"
      ]
     },
     "metadata": {
      "needs_background": "light"
     },
     "output_type": "display_data"
    }
   ],
   "source": [
    "sex_ax = sns.countplot(x='gender', hue='diagnosis', data=df)\n",
    "plt.show()"
   ]
  },
  {
   "cell_type": "code",
   "execution_count": 16,
   "metadata": {
    "execution": {
     "iopub.execute_input": "2024-02-21T17:45:37.237228Z",
     "iopub.status.busy": "2024-02-21T17:45:37.236660Z",
     "iopub.status.idle": "2024-02-21T17:45:37.456511Z",
     "shell.execute_reply": "2024-02-21T17:45:37.454868Z",
     "shell.execute_reply.started": "2024-02-21T17:45:37.237196Z"
    }
   },
   "outputs": [
    {
     "data": {
      "image/png": "[encoded data removed]",
      "text/plain": [
       "<Figure size 432x288 with 1 Axes>"
      ]
     },
     "metadata": {
      "needs_background": "light"
     },
     "output_type": "display_data"
    }
   ],
   "source": [
    "cp_ax = sns.countplot(x='chest_pain', hue='diagnosis', data=df)\n",
    "\n",
    "plt.show()"
   ]
  },
  {
   "cell_type": "code",
   "execution_count": 17,
   "metadata": {
    "execution": {
     "iopub.execute_input": "2024-02-21T17:45:37.459055Z",
     "iopub.status.busy": "2024-02-21T17:45:37.458306Z",
     "iopub.status.idle": "2024-02-21T17:45:37.671568Z",
     "shell.execute_reply": "2024-02-21T17:45:37.670006Z",
     "shell.execute_reply.started": "2024-02-21T17:45:37.459023Z"
    }
   },
   "outputs": [
    {
     "data": {
      "image/png": "[encoded data removed]",
      "text/plain": [
       "<Figure size 432x288 with 1 Axes>"
      ]
     },
     "metadata": {
      "needs_background": "light"
     },
     "output_type": "display_data"
    }
   ],
   "source": [
    "fbs_ax = sns.countplot(x='fasting_bs', hue='diagnosis', data=df)\n",
    "plt.show()"
   ]
  },
  {
   "cell_type": "code",
   "execution_count": 18,
   "metadata": {
    "execution": {
     "iopub.execute_input": "2024-02-21T17:45:37.674496Z",
     "iopub.status.busy": "2024-02-21T17:45:37.673706Z",
     "iopub.status.idle": "2024-02-21T17:45:37.945002Z",
     "shell.execute_reply": "2024-02-21T17:45:37.943464Z",
     "shell.execute_reply.started": "2024-02-21T17:45:37.674452Z"
    }
   },
   "outputs": [
    {
     "data": {
      "image/png": "[encoded data removed]",
      "text/plain": [
       "<Figure size 432x288 with 1 Axes>"
      ]
     },
     "metadata": {
      "needs_background": "light"
     },
     "output_type": "display_data"
    }
   ],
   "source": [
    "restecg_ax = sns.countplot(x='rest_ecg', hue='diagnosis', data=df)\n",
    "\n",
    "plt.show()"
   ]
  },
  {
   "cell_type": "code",
   "execution_count": 19,
   "metadata": {
    "execution": {
     "iopub.execute_input": "2024-02-21T17:45:37.947449Z",
     "iopub.status.busy": "2024-02-21T17:45:37.946929Z",
     "iopub.status.idle": "2024-02-21T17:45:38.155035Z",
     "shell.execute_reply": "2024-02-21T17:45:38.153687Z",
     "shell.execute_reply.started": "2024-02-21T17:45:37.947414Z"
    }
   },
   "outputs": [
    {
     "data": {
      "image/png": "[encoded data removed]",
      "text/plain": [
       "<Figure size 432x288 with 1 Axes>"
      ]
     },
     "metadata": {
      "needs_background": "light"
     },
     "output_type": "display_data"
    }
   ],
   "source": [
    "exang_ax = sns.countplot(x='exercise_angina', hue='diagnosis', data=df)\n",
    "plt.show()"
   ]
  },
  {
   "cell_type": "code",
   "execution_count": 20,
   "metadata": {
    "execution": {
     "iopub.execute_input": "2024-02-21T17:45:38.158035Z",
     "iopub.status.busy": "2024-02-21T17:45:38.156704Z",
     "iopub.status.idle": "2024-02-21T17:45:38.367156Z",
     "shell.execute_reply": "2024-02-21T17:45:38.365968Z",
     "shell.execute_reply.started": "2024-02-21T17:45:38.157989Z"
    }
   },
   "outputs": [
    {
     "data": {
      "image/png": "[encoded data removed]",
      "text/plain": [
       "<Figure size 432x288 with 1 Axes>"
      ]
     },
     "metadata": {
      "needs_background": "light"
     },
     "output_type": "display_data"
    }
   ],
   "source": [
    "slope_ax = sns.countplot(x='st_slope', hue='diagnosis', data=df)\n",
    "plt.show()"
   ]
  },
  {
   "cell_type": "code",
   "execution_count": 21,
   "metadata": {
    "execution": {
     "iopub.execute_input": "2024-02-21T17:45:38.370133Z",
     "iopub.status.busy": "2024-02-21T17:45:38.368795Z",
     "iopub.status.idle": "2024-02-21T17:45:38.595896Z",
     "shell.execute_reply": "2024-02-21T17:45:38.594668Z",
     "shell.execute_reply.started": "2024-02-21T17:45:38.370088Z"
    }
   },
   "outputs": [
    {
     "data": {
      "image/png": "[encoded data removed]",
      "text/plain": [
       "<Figure size 432x288 with 1 Axes>"
      ]
     },
     "metadata": {
      "needs_background": "light"
     },
     "output_type": "display_data"
    }
   ],
   "source": [
    "ca_ax = sns.countplot(x='num_vessels', hue='diagnosis', data=df)\n",
    "\n",
    "plt.show()"
   ]
  },
  {
   "cell_type": "code",
   "execution_count": 22,
   "metadata": {
    "execution": {
     "iopub.execute_input": "2024-02-21T17:45:38.598885Z",
     "iopub.status.busy": "2024-02-21T17:45:38.597511Z",
     "iopub.status.idle": "2024-02-21T17:45:38.813761Z",
     "shell.execute_reply": "2024-02-21T17:45:38.812210Z",
     "shell.execute_reply.started": "2024-02-21T17:45:38.598837Z"
    }
   },
   "outputs": [
    {
     "data": {
      "image/png": "[encoded data removed]",
      "text/plain": [
       "<Figure size 432x288 with 1 Axes>"
      ]
     },
     "metadata": {
      "needs_background": "light"
     },
     "output_type": "display_data"
    }
   ],
   "source": [
    "thal_ax = sns.countplot(x='thalassemia', hue='diagnosis', data=df)\n",
    "\n",
    "plt.show()"
   ]
  },
  {
   "cell_type": "markdown",
   "metadata": {},
   "source": [
    "## Numerical data Analysis"
   ]
  },
  {
   "cell_type": "code",
   "execution_count": 23,
   "metadata": {
    "execution": {
     "iopub.execute_input": "2024-02-21T17:45:38.816075Z",
     "iopub.status.busy": "2024-02-21T17:45:38.815610Z",
     "iopub.status.idle": "2024-02-21T17:45:39.081588Z",
     "shell.execute_reply": "2024-02-21T17:45:39.079958Z",
     "shell.execute_reply.started": "2024-02-21T17:45:38.816040Z"
    }
   },
   "outputs": [
    {
     "data": {
      "image/png": "[encoded data removed]",
      "text/plain": [
       "<Figure size 720x432 with 1 Axes>"
      ]
     },
     "metadata": {
      "needs_background": "light"
     },
     "output_type": "display_data"
    }
   ],
   "source": [
    "age_col = df['age']\n",
    "\n",
    "# Create a figure with a specific size\n",
    "plt.figure(figsize=(10, 6))\n",
    "\n",
    "# Generate a histogram for the 'age' column\n",
    "plt.hist(age_col, bins=20, color='skyblue', alpha=0.7)\n",
    "\n",
    "plt.xlabel('Age')\n",
    "plt.ylabel('Frequency')\n",
    "plt.title('Age Distribution')\n",
    "plt.show()"
   ]
  },
  {
   "cell_type": "code",
   "execution_count": 24,
   "metadata": {
    "execution": {
     "iopub.execute_input": "2024-02-21T17:45:39.084680Z",
     "iopub.status.busy": "2024-02-21T17:45:39.083740Z",
     "iopub.status.idle": "2024-02-21T17:45:39.351645Z",
     "shell.execute_reply": "2024-02-21T17:45:39.350364Z",
     "shell.execute_reply.started": "2024-02-21T17:45:39.084626Z"
    }
   },
   "outputs": [
    {
     "data": {
      "image/png": "[encoded data removed]",
      "text/plain": [
       "<Figure size 432x288 with 1 Axes>"
      ]
     },
     "metadata": {
      "needs_background": "light"
     },
     "output_type": "display_data"
    }
   ],
   "source": [
    "trestbps_col = df['rest_bp']\n",
    "\n",
    "plt.hist(trestbps_col, bins=20, color='lightcoral', alpha=0.7)\n",
    "\n",
    "plt.xlabel('Resting Blood Pressure (mm Hg)')\n",
    "plt.ylabel('Frequency')\n",
    "plt.title('Resting Blood Pressure Distribution')\n",
    "plt.show()\n"
   ]
  },
  {
   "cell_type": "code",
   "execution_count": 25,
   "metadata": {
    "execution": {
     "iopub.execute_input": "2024-02-21T17:45:39.353850Z",
     "iopub.status.busy": "2024-02-21T17:45:39.353485Z",
     "iopub.status.idle": "2024-02-21T17:45:39.603920Z",
     "shell.execute_reply": "2024-02-21T17:45:39.602879Z",
     "shell.execute_reply.started": "2024-02-21T17:45:39.353819Z"
    }
   },
   "outputs": [
    {
     "data": {
      "image/png": "[encoded data removed]",
      "text/plain": [
       "<Figure size 432x288 with 1 Axes>"
      ]
     },
     "metadata": {
      "needs_background": "light"
     },
     "output_type": "display_data"
    }
   ],
   "source": [
    "chol_col = df['cholesterol']\n",
    "plt.hist(chol_col, bins=20, color='lightgreen', alpha=0.7)\n",
    "\n",
    "plt.xlabel('Cholesterol (mg/dl)')\n",
    "plt.ylabel('Frequency')\n",
    "plt.title('Cholesterol Distribution')\n",
    "plt.show()"
   ]
  },
  {
   "cell_type": "code",
   "execution_count": 26,
   "metadata": {
    "execution": {
     "iopub.execute_input": "2024-02-21T17:45:39.606139Z",
     "iopub.status.busy": "2024-02-21T17:45:39.605648Z",
     "iopub.status.idle": "2024-02-21T17:45:39.902190Z",
     "shell.execute_reply": "2024-02-21T17:45:39.900745Z",
     "shell.execute_reply.started": "2024-02-21T17:45:39.606098Z"
    }
   },
   "outputs": [
    {
     "data": {
      "image/png": "[encoded data removed]",
      "text/plain": [
       "<Figure size 432x288 with 1 Axes>"
      ]
     },
     "metadata": {
      "needs_background": "light"
     },
     "output_type": "display_data"
    }
   ],
   "source": [
    "thalach_col = df['max_hr']\n",
    "plt.hist(thalach_col, bins=20, color='lightblue', alpha=0.7)\n",
    "\n",
    "plt.xlabel('Maximum Heart Rate (beats per minute)')\n",
    "plt.ylabel('Frequency')\n",
    "plt.title('Maximum Heart Rate Distribution')\n",
    "plt.show()"
   ]
  },
  {
   "cell_type": "code",
   "execution_count": 27,
   "metadata": {
    "execution": {
     "iopub.execute_input": "2024-02-21T17:45:39.904553Z",
     "iopub.status.busy": "2024-02-21T17:45:39.904217Z",
     "iopub.status.idle": "2024-02-21T17:45:40.177173Z",
     "shell.execute_reply": "2024-02-21T17:45:40.175670Z",
     "shell.execute_reply.started": "2024-02-21T17:45:39.904523Z"
    }
   },
   "outputs": [
    {
     "data": {
      "image/png": "[encoded data removed]",
      "text/plain": [
       "<Figure size 432x288 with 1 Axes>"
      ]
     },
     "metadata": {
      "needs_background": "light"
     },
     "output_type": "display_data"
    }
   ],
   "source": [
    "oldpeak_col = df['st_depression']\n",
    "\n",
    "plt.hist(oldpeak_col, bins=20, color='lightblue', alpha=0.7)\n",
    "plt.xlabel('ST Depression')\n",
    "plt.ylabel('Frequency')\n",
    "plt.title('Distribution of ST Depression')\n",
    "plt.show()"
   ]
  },
  {
   "cell_type": "code",
   "execution_count": 28,
   "metadata": {
    "execution": {
     "iopub.execute_input": "2024-02-21T17:45:40.179329Z",
     "iopub.status.busy": "2024-02-21T17:45:40.178903Z",
     "iopub.status.idle": "2024-02-21T17:45:40.907708Z",
     "shell.execute_reply": "2024-02-21T17:45:40.906060Z",
     "shell.execute_reply.started": "2024-02-21T17:45:40.179295Z"
    }
   },
   "outputs": [
    {
     "data": {
      "image/png": "[encoded data removed]",
      "text/plain": [
       "<Figure size 415.5x360 with 1 Axes>"
      ]
     },
     "metadata": {
      "needs_background": "light"
     },
     "output_type": "display_data"
    }
   ],
   "source": [
    "violinplt = sns.catplot(x='chest_pain', y='age', hue='diagnosis', kind='violin', data=df, palette='muted')\n",
    "\n",
    "plt.show()"
   ]
  },
  {
   "cell_type": "code",
   "execution_count": 29,
   "metadata": {
    "execution": {
     "iopub.execute_input": "2024-02-21T17:45:40.909794Z",
     "iopub.status.busy": "2024-02-21T17:45:40.909413Z",
     "iopub.status.idle": "2024-02-21T17:45:41.259392Z",
     "shell.execute_reply": "2024-02-21T17:45:41.257901Z",
     "shell.execute_reply.started": "2024-02-21T17:45:40.909762Z"
    }
   },
   "outputs": [
    {
     "data": {
      "image/png": "[encoded data removed]",
      "text/plain": [
       "<Figure size 415.5x360 with 1 Axes>"
      ]
     },
     "metadata": {
      "needs_background": "light"
     },
     "output_type": "display_data"
    }
   ],
   "source": [
    "countplt = sns.catplot(x='fasting_bs', hue='diagnosis', kind='count', data=df, alpha=0.85)\n",
    "\n",
    "plt.show()"
   ]
  },
  {
   "cell_type": "markdown",
   "metadata": {},
   "source": [
    "## Encoding Categorical Features"
   ]
  },
  {
   "cell_type": "code",
   "execution_count": 30,
   "metadata": {
    "execution": {
     "iopub.execute_input": "2024-02-21T17:45:41.261402Z",
     "iopub.status.busy": "2024-02-21T17:45:41.261049Z",
     "iopub.status.idle": "2024-02-21T17:45:41.280478Z",
     "shell.execute_reply": "2024-02-21T17:45:41.279204Z",
     "shell.execute_reply.started": "2024-02-21T17:45:41.261373Z"
    }
   },
   "outputs": [
    {
     "data": {
      "text/plain": [
       "rest_bp              int64\n",
       "age                  int64\n",
       "fasting_bs          object\n",
       "max_hr               int64\n",
       "exercise_angina     object\n",
       "gender              object\n",
       "cholesterol          int64\n",
       "st_depression      float64\n",
       "rest_ecg            object\n",
       "num_vessels         object\n",
       "diagnosis            int64\n",
       "chest_pain_0         int32\n",
       "chest_pain_1         int32\n",
       "chest_pain_2         int32\n",
       "chest_pain_3         int32\n",
       "thalassemia_0        int32\n",
       "thalassemia_1        int32\n",
       "thalassemia_2        int32\n",
       "st_slope_0           int32\n",
       "st_slope_1           int32\n",
       "st_slope_2           int32\n",
       "dtype: object"
      ]
     },
     "execution_count": 30,
     "metadata": {},
     "output_type": "execute_result"
    }
   ],
   "source": [
    "categorical_cols = ['chest_pain', 'thalassemia', 'st_slope']\n",
    "\n",
    "# Iterate through the categorical columns and cast each column to integer data type\n",
    "for col in categorical_cols:\n",
    "    df[col] = df[col].astype(int)\n",
    "\n",
    "# Perform one-hot encoding using pd.get_dummies()\n",
    "df_encoded = pd.get_dummies(df, columns=categorical_cols, prefix_sep='_', dtype=int)\n",
    "\n",
    "df_encoded.dtypes"
   ]
  },
  {
   "cell_type": "code",
   "execution_count": 31,
   "metadata": {
    "execution": {
     "iopub.execute_input": "2024-02-21T17:45:41.283012Z",
     "iopub.status.busy": "2024-02-21T17:45:41.282374Z",
     "iopub.status.idle": "2024-02-21T17:45:41.290571Z",
     "shell.execute_reply": "2024-02-21T17:45:41.289376Z",
     "shell.execute_reply.started": "2024-02-21T17:45:41.282977Z"
    }
   },
   "outputs": [],
   "source": [
    "x = df.drop('diagnosis', axis=1)\n",
    "\n",
    "y = df['diagnosis']"
   ]
  },
  {
   "cell_type": "code",
   "execution_count": 32,
   "metadata": {
    "execution": {
     "iopub.execute_input": "2024-02-21T17:45:41.293407Z",
     "iopub.status.busy": "2024-02-21T17:45:41.292880Z",
     "iopub.status.idle": "2024-02-21T17:45:41.531219Z",
     "shell.execute_reply": "2024-02-21T17:45:41.529993Z",
     "shell.execute_reply.started": "2024-02-21T17:45:41.293358Z"
    }
   },
   "outputs": [],
   "source": [
    "from sklearn.preprocessing import MinMaxScaler\n",
    "\n",
    "scaler = MinMaxScaler()\n",
    "x_scaled = scaler.fit_transform(x)"
   ]
  },
  {
   "cell_type": "code",
   "execution_count": 33,
   "metadata": {
    "execution": {
     "iopub.execute_input": "2024-02-21T17:45:41.533218Z",
     "iopub.status.busy": "2024-02-21T17:45:41.532836Z",
     "iopub.status.idle": "2024-02-21T17:45:41.655546Z",
     "shell.execute_reply": "2024-02-21T17:45:41.654254Z",
     "shell.execute_reply.started": "2024-02-21T17:45:41.533185Z"
    }
   },
   "outputs": [],
   "source": [
    "from sklearn.model_selection import train_test_split\n",
    "\n",
    "X_train, X_test, Y_train, Y_test = train_test_split(x_scaled, y, train_size=0.8, test_size=0.2, random_state=4)"
   ]
  },
  {
   "cell_type": "markdown",
   "metadata": {},
   "source": [
    "## Logistic Regression"
   ]
  },
  {
   "cell_type": "code",
   "execution_count": 34,
   "metadata": {
    "execution": {
     "iopub.execute_input": "2024-02-21T17:45:41.662931Z",
     "iopub.status.busy": "2024-02-21T17:45:41.662527Z",
     "iopub.status.idle": "2024-02-21T17:45:41.867004Z",
     "shell.execute_reply": "2024-02-21T17:45:41.866044Z",
     "shell.execute_reply.started": "2024-02-21T17:45:41.662900Z"
    }
   },
   "outputs": [
    {
     "name": "stdout",
     "output_type": "stream",
     "text": [
      "Mean score from cross-validation: 0.8018\n"
     ]
    }
   ],
   "source": [
    "from sklearn.linear_model import LogisticRegression\n",
    "from sklearn.model_selection import cross_val_score\n",
    "\n",
    "lr_model = LogisticRegression()\n",
    "lr_model.fit(X_train, Y_train)\n",
    "lr_cv_results = cross_val_score(lr_model, X_train, Y_train, cv=10)\n",
    "lr_mean_score = round(lr_cv_results.mean(), 4)\n",
    "\n",
    "print(\"Mean score from cross-validation:\", lr_mean_score)"
   ]
  },
  {
   "cell_type": "markdown",
   "metadata": {},
   "source": [
    "## Linear Discriminant Analysis (LDA)"
   ]
  },
  {
   "cell_type": "code",
   "execution_count": 35,
   "metadata": {
    "execution": {
     "iopub.execute_input": "2024-02-21T17:45:41.869498Z",
     "iopub.status.busy": "2024-02-21T17:45:41.868636Z",
     "iopub.status.idle": "2024-02-21T17:45:41.935791Z",
     "shell.execute_reply": "2024-02-21T17:45:41.934429Z",
     "shell.execute_reply.started": "2024-02-21T17:45:41.869457Z"
    }
   },
   "outputs": [
    {
     "name": "stdout",
     "output_type": "stream",
     "text": [
      "Mean score from cross-validation: 0.819\n"
     ]
    }
   ],
   "source": [
    "from sklearn.discriminant_analysis import LinearDiscriminantAnalysis\n",
    "\n",
    "ldr_model = LinearDiscriminantAnalysis()\n",
    "ldr_model.fit(X_train, Y_train)\n",
    "ldr_cv_results = cross_val_score(ldr_model, X_train, Y_train, cv=10)\n",
    "ldr_mean_score = round(ldr_cv_results.mean(), 4)\n",
    "\n",
    "print(\"Mean score from cross-validation:\", ldr_mean_score)"
   ]
  },
  {
   "cell_type": "markdown",
   "metadata": {},
   "source": [
    "## K-Nearest Neighbors (KNN)"
   ]
  },
  {
   "cell_type": "code",
   "execution_count": 36,
   "metadata": {
    "execution": {
     "iopub.execute_input": "2024-02-21T17:45:41.938091Z",
     "iopub.status.busy": "2024-02-21T17:45:41.937695Z",
     "iopub.status.idle": "2024-02-21T17:45:42.077748Z",
     "shell.execute_reply": "2024-02-21T17:45:42.075476Z",
     "shell.execute_reply.started": "2024-02-21T17:45:41.938059Z"
    }
   },
   "outputs": [
    {
     "name": "stdout",
     "output_type": "stream",
     "text": [
      "Mean score from cross-validation: 0.8101\n",
      "Standard deviation of the scores: 0.0777\n"
     ]
    }
   ],
   "source": [
    "from sklearn.neighbors import KNeighborsClassifier\n",
    "\n",
    "knn_model = KNeighborsClassifier()\n",
    "knn_model.fit(X_train, Y_train)\n",
    "knn_cv_results = cross_val_score(knn_model, X_train, Y_train, cv=10)\n",
    "knn_mean_score = round(knn_cv_results.mean(), 4)\n",
    "knn_std_score = round(knn_cv_results.std(), 4)\n",
    "\n",
    "print(\"Mean score from cross-validation:\", knn_mean_score)\n",
    "print(\"Standard deviation of the scores:\", knn_std_score)"
   ]
  },
  {
   "cell_type": "markdown",
   "metadata": {},
   "source": [
    "## Decision Tree Classifier"
   ]
  },
  {
   "cell_type": "code",
   "execution_count": 37,
   "metadata": {
    "execution": {
     "iopub.execute_input": "2024-02-21T17:45:42.080277Z",
     "iopub.status.busy": "2024-02-21T17:45:42.079901Z",
     "iopub.status.idle": "2024-02-21T17:45:42.162246Z",
     "shell.execute_reply": "2024-02-21T17:45:42.160661Z",
     "shell.execute_reply.started": "2024-02-21T17:45:42.080246Z"
    }
   },
   "outputs": [
    {
     "name": "stdout",
     "output_type": "stream",
     "text": [
      "Mean score from cross-validation: 0.7304\n"
     ]
    }
   ],
   "source": [
    "from sklearn.tree import DecisionTreeClassifier\n",
    "\n",
    "dt_model = DecisionTreeClassifier()\n",
    "dt_model.fit(X_train, Y_train)\n",
    "dt_cv_results = cross_val_score(dt_model, X_train, Y_train, cv=10)\n",
    "dt_mean_score = round(dt_cv_results.mean(), 4)\n",
    "\n",
    "print(\"Mean score from cross-validation:\", dt_mean_score)"
   ]
  },
  {
   "cell_type": "markdown",
   "metadata": {},
   "source": [
    "## Gaussian Naive Bayes"
   ]
  },
  {
   "cell_type": "code",
   "execution_count": 38,
   "metadata": {
    "execution": {
     "iopub.execute_input": "2024-02-21T17:45:42.164857Z",
     "iopub.status.busy": "2024-02-21T17:45:42.163849Z",
     "iopub.status.idle": "2024-02-21T17:45:42.207325Z",
     "shell.execute_reply": "2024-02-21T17:45:42.205848Z",
     "shell.execute_reply.started": "2024-02-21T17:45:42.164824Z"
    }
   },
   "outputs": [
    {
     "name": "stdout",
     "output_type": "stream",
     "text": [
      "Mean score from cross-validation: 0.8266\n"
     ]
    }
   ],
   "source": [
    "from sklearn.naive_bayes import GaussianNB\n",
    "\n",
    "gnb_model = GaussianNB()\n",
    "gnb_model.fit(X_train, Y_train)\n",
    "gnb_cv_results = cross_val_score(gnb_model, X_train, Y_train, cv=10)\n",
    "gnb_mean_score = round(gnb_cv_results.mean(), 4)\n",
    "\n",
    "print(\"Mean score from cross-validation:\", gnb_mean_score)"
   ]
  },
  {
   "cell_type": "markdown",
   "metadata": {},
   "source": [
    "## Random Forest Classifier"
   ]
  },
  {
   "cell_type": "code",
   "execution_count": 40,
   "metadata": {
    "execution": {
     "iopub.execute_input": "2024-02-21T17:45:42.209304Z",
     "iopub.status.busy": "2024-02-21T17:45:42.208954Z",
     "iopub.status.idle": "2024-02-21T17:45:45.115549Z",
     "shell.execute_reply": "2024-02-21T17:45:45.113924Z",
     "shell.execute_reply.started": "2024-02-21T17:45:42.209275Z"
    }
   },
   "outputs": [
    {
     "name": "stdout",
     "output_type": "stream",
     "text": [
      "Mean score from cross-validation: 0.8232\n"
     ]
    }
   ],
   "source": [
    "from sklearn.ensemble import RandomForestClassifier\n",
    "\n",
    "num_trees = 100\n",
    "max_features = 'sqrt'\n",
    "\n",
    "rf_model = RandomForestClassifier(n_estimators=num_trees, max_features=max_features)\n",
    "rf_model.fit(X_train, Y_train)\n",
    "rf_cv_results = cross_val_score(rf_model, X_train, Y_train, cv=10)\n",
    "rf_mean_score = round(rf_cv_results.mean(), 4)\n",
    "\n",
    "print(\"Mean score from cross-validation:\", rf_mean_score)"
   ]
  },
  {
   "cell_type": "markdown",
   "metadata": {},
   "source": [
    "## Support Vector Classifier (SVC)"
   ]
  },
  {
   "cell_type": "code",
   "execution_count": 41,
   "metadata": {
    "execution": {
     "iopub.execute_input": "2024-02-21T17:45:45.117899Z",
     "iopub.status.busy": "2024-02-21T17:45:45.117398Z",
     "iopub.status.idle": "2024-02-21T17:45:45.186699Z",
     "shell.execute_reply": "2024-02-21T17:45:45.185136Z",
     "shell.execute_reply.started": "2024-02-21T17:45:45.117857Z"
    }
   },
   "outputs": [
    {
     "name": "stdout",
     "output_type": "stream",
     "text": [
      "Mean score from cross-validation: 0.8274\n"
     ]
    }
   ],
   "source": [
    "from sklearn.svm import SVC\n",
    "\n",
    "sv_model = SVC()\n",
    "sv_model.fit(X_train, Y_train)\n",
    "sv_cv_results = cross_val_score(sv_model, X_train, Y_train, cv=10)\n",
    "sv_mean_score = round(sv_cv_results.mean(), 4)\n",
    "\n",
    "print(\"Mean score from cross-validation:\", sv_mean_score)"
   ]
  },
  {
   "cell_type": "markdown",
   "metadata": {},
   "source": [
    "## Gradient Boosting Classifier"
   ]
  },
  {
   "cell_type": "code",
   "execution_count": 35,
   "metadata": {
    "execution": {
     "iopub.execute_input": "2024-02-21T17:45:45.189729Z",
     "iopub.status.busy": "2024-02-21T17:45:45.189204Z",
     "iopub.status.idle": "2024-02-21T17:45:46.652914Z",
     "shell.execute_reply": "2024-02-21T17:45:46.651600Z",
     "shell.execute_reply.started": "2024-02-21T17:45:45.189687Z"
    }
   },
   "outputs": [
    {
     "name": "stdout",
     "output_type": "stream",
     "text": [
      "Mean score from cross-validation: 0.8361\n"
     ]
    }
   ],
   "source": [
    "from sklearn.ensemble import GradientBoostingClassifier\n",
    "\n",
    "gb_model = GradientBoostingClassifier()\n",
    "gb_model.fit(X_train, Y_train)\n",
    "gb_cv_results = cross_val_score(gb_model, X_train, Y_train, cv=10)\n",
    "gb_mean_score = round(gb_cv_results.mean(), 4)\n",
    "\n",
    "print(\"Mean score from cross-validation:\", gb_mean_score)"
   ]
  },
  {
   "cell_type": "markdown",
   "metadata": {},
   "source": [
    "## Multilayer Perceptron (MLP) Classifier"
   ]
  },
  {
   "cell_type": "code",
   "execution_count": 42,
   "metadata": {
    "execution": {
     "iopub.execute_input": "2024-02-21T17:45:46.655579Z",
     "iopub.status.busy": "2024-02-21T17:45:46.654500Z",
     "iopub.status.idle": "2024-02-21T17:45:53.719578Z",
     "shell.execute_reply": "2024-02-21T17:45:53.717875Z",
     "shell.execute_reply.started": "2024-02-21T17:45:46.655522Z"
    }
   },
   "outputs": [
    {
     "name": "stdout",
     "output_type": "stream",
     "text": [
      "Mean score from cross-validation: 0.8185\n"
     ]
    }
   ],
   "source": [
    "from sklearn.neural_network import MLPClassifier\n",
    "\n",
    "mlp_model = MLPClassifier()\n",
    "mlp_model.fit(X_train, Y_train)\n",
    "mlp_cv_results = cross_val_score(mlp_model, X_train, Y_train, cv=10)\n",
    "mlp_mean_score = round(mlp_cv_results.mean(), 4)\n",
    "\n",
    "print(\"Mean score from cross-validation:\", mlp_mean_score)"
   ]
  },
  {
   "cell_type": "markdown",
   "metadata": {},
   "source": [
    "## AdaBoost Classifier"
   ]
  },
  {
   "cell_type": "code",
   "execution_count": 37,
   "metadata": {
    "execution": {
     "iopub.execute_input": "2024-02-21T17:45:53.732296Z",
     "iopub.status.busy": "2024-02-21T17:45:53.727982Z",
     "iopub.status.idle": "2024-02-21T17:45:55.234011Z",
     "shell.execute_reply": "2024-02-21T17:45:55.232767Z",
     "shell.execute_reply.started": "2024-02-21T17:45:53.732214Z"
    }
   },
   "outputs": [
    {
     "name": "stdout",
     "output_type": "stream",
     "text": [
      "Mean score from cross-validation: 0.802\n"
     ]
    }
   ],
   "source": [
    "from sklearn.ensemble import AdaBoostClassifier\n",
    "\n",
    "adaboost_model = AdaBoostClassifier()\n",
    "adaboost_model.fit(X_train, Y_train)\n",
    "adaboost_cv_results = cross_val_score(adaboost_model, X_train, Y_train, cv=10)\n",
    "adaboost_mean_score = round(adaboost_cv_results.mean(), 4)\n",
    "\n",
    "print(\"Mean score from cross-validation:\", adaboost_mean_score)"
   ]
  },
  {
   "cell_type": "markdown",
   "metadata": {},
   "source": [
    "## Hyperparameter tuning for the Gradient Boosting Classifier"
   ]
  },
  {
   "cell_type": "code",
   "execution_count": 38,
   "metadata": {
    "execution": {
     "iopub.execute_input": "2024-02-21T17:45:55.238176Z",
     "iopub.status.busy": "2024-02-21T17:45:55.235932Z",
     "iopub.status.idle": "2024-02-21T17:46:19.293646Z",
     "shell.execute_reply": "2024-02-21T17:46:19.291972Z",
     "shell.execute_reply.started": "2024-02-21T17:45:55.238127Z"
    }
   },
   "outputs": [
    {
     "name": "stdout",
     "output_type": "stream",
     "text": [
      "Best parameters: {'learning_rate': 0.1, 'max_depth': 3, 'n_estimators': 100}\n",
      "Best score: 0.8229\n"
     ]
    }
   ],
   "source": [
    "from sklearn.model_selection import GridSearchCV\n",
    "\n",
    "# Define the parameter grid\n",
    "param_grid = {\n",
    "    'n_estimators': [50, 100, 150],\n",
    "    'learning_rate': [0.01, 0.1, 0.5],\n",
    "    'max_depth': [3, 5, 7]\n",
    "}\n",
    "\n",
    "# Create a GridSearchCV object\n",
    "grid_search = GridSearchCV(estimator=GradientBoostingClassifier(), param_grid=param_grid, cv=5)\n",
    "\n",
    "# Perform the grid search\n",
    "grid_search.fit(X_train, Y_train)\n",
    "\n",
    "# Get the best parameters and best score\n",
    "best_params = grid_search.best_params_\n",
    "best_score = grid_search.best_score_\n",
    "\n",
    "print(\"Best parameters:\", best_params)\n",
    "print(\"Best score:\", round(best_score, 4))"
   ]
  },
  {
   "cell_type": "markdown",
   "metadata": {},
   "source": [
    "## Evaluating Model Performance"
   ]
  },
  {
   "cell_type": "code",
   "execution_count": 39,
   "metadata": {
    "execution": {
     "iopub.execute_input": "2024-02-21T17:46:19.296226Z",
     "iopub.status.busy": "2024-02-21T17:46:19.295589Z",
     "iopub.status.idle": "2024-02-21T17:46:19.318670Z",
     "shell.execute_reply": "2024-02-21T17:46:19.317391Z",
     "shell.execute_reply.started": "2024-02-21T17:46:19.296190Z"
    }
   },
   "outputs": [
    {
     "name": "stdout",
     "output_type": "stream",
     "text": [
      "Accuracy: 0.75\n",
      "Confusion Matrix:\n",
      " [[26  9]\n",
      " [ 6 19]]\n",
      "Classification Report:\n",
      "               precision    recall  f1-score   support\n",
      "\n",
      "           0       0.81      0.74      0.78        35\n",
      "           1       0.68      0.76      0.72        25\n",
      "\n",
      "    accuracy                           0.75        60\n",
      "   macro avg       0.75      0.75      0.75        60\n",
      "weighted avg       0.76      0.75      0.75        60\n",
      "\n"
     ]
    }
   ],
   "source": [
    "from sklearn.metrics import accuracy_score, confusion_matrix, classification_report\n",
    "\n",
    "y_pred = gb_model.predict(X_test)\n",
    "accuracy = accuracy_score(Y_test, y_pred)\n",
    "\n",
    "cm = confusion_matrix(Y_test, y_pred)\n",
    "cr = classification_report(Y_test, y_pred)\n",
    "\n",
    "print(\"Accuracy:\", accuracy)\n",
    "print(\"Confusion Matrix:\\n\", cm)\n",
    "print(\"Classification Report:\\n\", cr)"
   ]
  },
  {
   "cell_type": "code",
   "execution_count": 40,
   "metadata": {
    "execution": {
     "iopub.execute_input": "2024-02-21T17:46:19.321306Z",
     "iopub.status.busy": "2024-02-21T17:46:19.320761Z",
     "iopub.status.idle": "2024-02-21T17:46:19.332009Z",
     "shell.execute_reply": "2024-02-21T17:46:19.330577Z",
     "shell.execute_reply.started": "2024-02-21T17:46:19.321261Z"
    }
   },
   "outputs": [
    {
     "name": "stdout",
     "output_type": "stream",
     "text": [
      "Prediction: [1]\n"
     ]
    }
   ],
   "source": [
    "sample_data = [[120, 3, 0, 45, 0, 160, 1, 0, 1, 240, 2.0, 1, 0]]\n",
    "prediction = gb_model.predict(sample_data)\n",
    "\n",
    "print(\"Prediction:\", prediction)"
   ]
  }
 ],
 "metadata": {
  "kernelspec": {
   "display_name": "Python 3 (ipykernel)",
   "language": "python",
   "name": "python3"
  },
  "language_info": {
   "codemirror_mode": {
    "name": "ipython",
    "version": 3
   },
   "file_extension": ".py",
   "mimetype": "text/x-python",
   "name": "python",
   "nbconvert_exporter": "python",
   "pygments_lexer": "ipython3",
   "version": "3.9.7"
  }
 },
 "nbformat": 4,
 "nbformat_minor": 4
}
